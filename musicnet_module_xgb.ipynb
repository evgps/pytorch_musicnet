{
 "cells": [
  {
   "cell_type": "code",
   "execution_count": 1,
   "metadata": {},
   "outputs": [
    {
     "name": "stdout",
     "output_type": "stream",
     "text": [
      "0.3.1\n"
     ]
    }
   ],
   "source": [
    "import sys,os,errno,signal,copy\n",
    "from contextlib import contextmanager\n",
    "# !pip install intervaltree\n",
    "import numpy as np\n",
    "import musicnet\n",
    "\n",
    "import torch\n",
    "import torch.nn.functional as F\n",
    "from torch.autograd import Variable\n",
    "from torch.nn.functional import conv1d, mse_loss, cross_entropy\n",
    "print(torch.__version__)\n",
    "from time import time\n",
    "\n",
    "import matplotlib.pyplot as plt\n",
    "from IPython.display import Audio\n",
    "\n",
    "from sklearn.metrics import average_precision_score\n",
    "\n",
    "root = '/mnt/musicnet/'\n",
    "checkpoint_path = './checkpoints'\n",
    "checkpoint = 'musicnet_demo.pt'\n",
    "\n",
    "try:\n",
    "    os.makedirs(checkpoint_path)\n",
    "except OSError as e:\n",
    "    if e.errno != errno.EEXIST:\n",
    "        raise\n",
    "\n",
    "%matplotlib inline"
   ]
  },
  {
   "cell_type": "code",
   "execution_count": 2,
   "metadata": {},
   "outputs": [],
   "source": [
    "os.environ['CUDA_DEVICE_ORDER']='PCI_BUS_ID'   # see issue #152\n",
    "os.environ['CUDA_VISIBLE_DEVICES']='1,2,3'\n",
    "\n",
    "def worker_init(args):\n",
    "    signal.signal(signal.SIGINT, signal.SIG_IGN) # ignore signals so parent can handle them\n",
    "    np.random.seed(os.getpid() ^ int(time())) # approximately random seed for workers\n",
    "\n",
    "batch_size = 100\n",
    "kwargs = {'num_workers': 4, 'pin_memory': True, 'worker_init_fn': worker_init}\n",
    "\n",
    "m = 128\n",
    "k = 512\n",
    "d = 4096\n",
    "window = 16384\n",
    "stride = 512\n",
    "regions = 1 + (window - d)/stride"
   ]
  },
  {
   "cell_type": "code",
   "execution_count": 3,
   "metadata": {},
   "outputs": [],
   "source": [
    "train_set = musicnet.MusicNet(root=root, train=True, download=False, window=window)#, pitch_shift=5, jitter=.1)\n",
    "test_set = musicnet.MusicNet(root=root, train=False, window=window, epoch_size=50000)"
   ]
  },
  {
   "cell_type": "code",
   "execution_count": 4,
   "metadata": {},
   "outputs": [],
   "source": [
    "naruto_test = musicnet.MusicNet(root=root, train=False, window=window, download=False, epoch_size=50000, naruto=True)"
   ]
  },
  {
   "cell_type": "code",
   "execution_count": 5,
   "metadata": {},
   "outputs": [],
   "source": [
    "train_loader = torch.utils.data.DataLoader(dataset=train_set,batch_size=batch_size,**kwargs)\n",
    "test_loader = torch.utils.data.DataLoader(dataset=test_set,batch_size=batch_size,**kwargs)\n",
    "naruto_loader = torch.utils.data.DataLoader(dataset=naruto_test,batch_size=batch_size,**kwargs)"
   ]
  },
  {
   "cell_type": "code",
   "execution_count": 6,
   "metadata": {},
   "outputs": [],
   "source": [
    "def create_filters(d,k,low=50,high=6000):\n",
    "    x = np.linspace(0, 2*np.pi, d, endpoint=False)\n",
    "    wsin = np.empty((k,1,d), dtype=np.float32)\n",
    "    wcos = np.empty((k,1,d), dtype=np.float32)\n",
    "    start_freq = low\n",
    "    end_freq = high\n",
    "    num_cycles = start_freq*d/44000.\n",
    "    scaling_ind = np.log(end_freq/start_freq)/k\n",
    "    window_mask = 1.0-1.0*np.cos(x)\n",
    "    for ind in range(k):\n",
    "        wsin[ind,0,:] = window_mask*np.sin(np.exp(ind*scaling_ind)*num_cycles*x)\n",
    "        wcos[ind,0,:] = window_mask*np.cos(np.exp(ind*scaling_ind)*num_cycles*x)\n",
    "    \n",
    "    return wsin,wcos"
   ]
  },
  {
   "cell_type": "code",
   "execution_count": 7,
   "metadata": {},
   "outputs": [],
   "source": [
    "def L(y_hat, y):\n",
    "    # adjust for per-frame loss\n",
    "    return mse_loss(y_hat, y)*128/2.\n",
    "\n",
    "def L(y_hat, y):\n",
    "    # adjust for per-frame loss\n",
    "    return cross_entropy(y_hat, y.type(torch.cuda.LongTensor))"
   ]
  },
  {
   "cell_type": "code",
   "execution_count": 8,
   "metadata": {},
   "outputs": [],
   "source": [
    "class Flatten(torch.nn.Module):\n",
    "    def forward(self, input):\n",
    "        return input.view(input.size(0), -1)"
   ]
  },
  {
   "cell_type": "code",
   "execution_count": 9,
   "metadata": {},
   "outputs": [],
   "source": [
    "class Model(torch.nn.Module):\n",
    "    def __init__(self, avg=.9998):\n",
    "        super(Model, self).__init__()\n",
    "        \n",
    "        wsin,wcos = create_filters(d,k)\n",
    "        with torch.cuda.device(0):\n",
    "            self.wsin_var = Variable(torch.from_numpy(wsin).cuda(), requires_grad=False)\n",
    "            self.wcos_var = Variable(torch.from_numpy(wcos).cuda(), requires_grad=False)\n",
    "        h1 = 256\n",
    "        h2 = 256\n",
    "        self.seq = torch.nn.Sequential()\n",
    "        conv1_stride = 1\n",
    "        self.seq.add_module('drop', torch.nn.Dropout())\n",
    "        self.seq.add_module('bn', torch.nn.BatchNorm1d(k))\n",
    "        self.seq.add_module('conv1', torch.nn.Conv1d(k, 64, kernel_size = 1, padding=0, stride=1))\n",
    "        self.seq.add_module('flat', Flatten())\n",
    "#         self.seq.add_module('conv2', torch.nn.Conv1d(64, 16, kernel_size = 3, padding=1, stride=1))\n",
    "#         self.seq.add_module('conv3', torch.nn.Conv1d(16, 1, kernel_size = 3, padding=1, stride=1))\n",
    "        self.seq.add_module('lout', torch.nn.Linear(int(regions*64), int(m), bias=False))\n",
    "        \n",
    "#         self.seq.add_module('l1', torch.nn.Linear(int(regions*k), int(h1), bias=False))\n",
    "#         self.seq.add_module('relu1', torch.nn.ELU())\n",
    "#         self.seq.add_module('l2', torch.nn.Linear(int(h1), int(h2), bias=False))\n",
    "#         self.seq.add_module('relu2', torch.nn.ELU())\n",
    "#         self.seq.add_module('l3', torch.nn.Linear(int(h2), int(m), bias=False))\n",
    "\n",
    "\n",
    "        self.seq.add_module('out', torch.nn.LogSoftmax())\n",
    "    \n",
    "    \n",
    "#         self.seq.add_module('out', torch.nn.LogSigmoid())\n",
    "#         self.seq.add_module('out', torch.nn.Sigmoid())\n",
    "#         self.linear = torch.nn.Linear(int(regions*k), int(h), bias=False).cuda()\n",
    "#         torch.nn.init.xavier_uniform(self.linear.weight)\n",
    "#         self.linear2 = torch.nn.Linear(int(h), int(h), bias=False).cuda()\n",
    "#         torch.nn.init.xavier_uniform(self.linear2.weight)\n",
    "#         self.linear3 = torch.nn.Linear(int(h), int(m), bias=False).cuda()\n",
    "#         torch.nn.init.xavier_uniform(self.linear3.weight)\n",
    "        self.seq.cuda()\n",
    "        self.avg = avg\n",
    "        self.averages = copy.deepcopy(list(parm.data for parm in self.parameters()))\n",
    "        for (name,parm),pavg in zip(self.named_parameters(),self.averages):\n",
    "            self.register_buffer(name + '.avg', pavg)\n",
    "    \n",
    "    def forward(self, x):\n",
    "#         print(x.size())\n",
    "        zx = conv1d(x[:,None,:], self.wsin_var, stride=stride).pow(2) \\\n",
    "           + conv1d(x[:,None,:], self.wcos_var, stride=stride).pow(2)\n",
    "#         print(zx.size())\n",
    "#         hid = self.linear(torch.log(zx + musicnet.epsilon).view(x.data.size()[0],int(regions*k)))\n",
    "#         hid2 = self.linear2(F.relu(hid))\n",
    "#         hid3 = self.linear3(F.relu(hid2))\n",
    "#         return F.softmax(hid3)\n",
    "#         return self.seq.forward(torch.log(zx + musicnet.epsilon).view(x.data.size()[0],int(regions*k)))\n",
    "        return self.seq.forward(torch.log(zx + musicnet.epsilon))\n",
    "\n",
    "    \n",
    "    def average_iterates(self):\n",
    "        for parm, pavg in zip(self.parameters(), self.averages):\n",
    "            pavg.mul_(self.avg).add_(1.-self.avg, parm.data)\n",
    "\n",
    "@contextmanager\n",
    "def averages(model):\n",
    "    orig_parms = copy.deepcopy(list(parm.data for parm in model.parameters()))\n",
    "    for parm, pavg in zip(model.parameters(), model.averages):\n",
    "        parm.data.copy_(pavg)\n",
    "    yield\n",
    "    for parm, orig in zip(model.parameters(), orig_parms):\n",
    "        parm.data.copy_(orig)"
   ]
  },
  {
   "cell_type": "markdown",
   "metadata": {},
   "source": [
    "# Train the model"
   ]
  },
  {
   "cell_type": "code",
   "execution_count": 10,
   "metadata": {},
   "outputs": [
    {
     "name": "stdout",
     "output_type": "stream",
     "text": [
      "Model(\n",
      "  (seq): Sequential(\n",
      "    (drop): Dropout(p=0.5)\n",
      "    (bn): BatchNorm1d(512, eps=1e-05, momentum=0.1, affine=True)\n",
      "    (conv1): Conv1d(512, 64, kernel_size=(1,), stride=(1,))\n",
      "    (flat): Flatten(\n",
      "    )\n",
      "    (lout): Linear(in_features=1600, out_features=128, bias=False)\n",
      "    (out): LogSoftmax()\n",
      "  )\n",
      ")\n"
     ]
    }
   ],
   "source": [
    "model = Model()\n",
    "print (model)\n",
    "loss_history = []\n",
    "avgp_history = []"
   ]
  },
  {
   "cell_type": "code",
   "execution_count": 11,
   "metadata": {},
   "outputs": [],
   "source": [
    "# (optional) restore from checkpoint, if it exists\n",
    "# try:\n",
    "#     model.load_state_dict(torch.load(os.path.join(checkpoint_path,checkpoint)))\n",
    "# except IOError as e:\n",
    "#     if e.errno != errno.ENOENT:\n",
    "#         raise"
   ]
  },
  {
   "cell_type": "code",
   "execution_count": 12,
   "metadata": {
    "scrolled": false
   },
   "outputs": [
    {
     "name": "stdout",
     "output_type": "stream",
     "text": [
      "square loss\tavg prec\ttime\t\tutime\n"
     ]
    },
    {
     "name": "stderr",
     "output_type": "stream",
     "text": [
      "/opt/conda/envs/pytorch-py3.6/lib/python3.6/site-packages/torch/nn/modules/container.py:67: UserWarning: Implicit dimension choice for log_softmax has been deprecated. Change the call to include dim=X as an argument.\n",
      "  input = module(input)\n"
     ]
    },
    {
     "name": "stdout",
     "output_type": "stream",
     "text": [
      "0.090126\t0.077183\t20.438282\t7.622451\n",
      "0.082289\t0.254730\t19.153247\t7.565892\n",
      "0.074891\t0.385710\t19.210564\t7.489708\n",
      "0.067440\t0.455399\t19.385787\t7.706076\n",
      "0.062434\t0.497569\t19.569596\t7.775782\n",
      "0.058269\t0.522529\t19.764456\t8.098820\n",
      "0.055500\t0.538406\t26.831208\t9.051709\n",
      "0.053765\t0.552859\t26.524648\t8.868583\n",
      "0.051984\t0.559788\t26.699982\t8.689063\n",
      "0.050982\t0.565421\t26.576772\t8.692123\n",
      "0.050000\t0.566643\t27.073449\t9.153670\n",
      "0.049317\t0.567365\t27.158586\t9.216747\n",
      "0.049018\t0.571188\t26.699590\t8.851467\n",
      "0.048597\t0.571371\t27.263025\t9.167432\n",
      "0.048238\t0.574418\t26.890529\t8.681603\n",
      "0.048242\t0.576489\t27.218669\t9.260910\n",
      "0.047917\t0.574750\t26.290356\t8.754250\n",
      "0.047908\t0.579043\t26.739537\t9.037667\n",
      "0.047817\t0.579568\t26.457259\t9.461015\n",
      "0.047399\t0.578638\t25.923908\t9.557025\n",
      "0.047462\t0.579622\t25.931256\t9.545793\n",
      "0.047509\t0.578300\t22.651934\t7.578634\n",
      "0.047281\t0.576519\t19.394806\t7.624401\n",
      "0.047367\t0.584422\t19.372579\t7.426711\n",
      "0.047260\t0.578094\t18.897837\t7.402127\n",
      "0.047129\t0.580883\t18.821566\t7.438983\n",
      "0.047530\t0.585549\t18.809759\t7.369961\n",
      "0.046996\t0.581034\t18.974716\t7.493913\n",
      "0.047277\t0.580775\t18.743580\t7.336608\n",
      "0.046885\t0.581922\t18.978665\t7.495556\n",
      "0.046908\t0.583792\t19.612883\t7.940991\n",
      "0.047101\t0.579089\t19.058133\t7.463774\n",
      "0.046807\t0.584372\t18.810976\t7.435510\n",
      "0.047354\t0.579808\t18.816779\t7.395427\n",
      "0.047152\t0.581873\t18.883688\t7.429515\n",
      "0.047042\t0.584072\t19.835046\t8.337450\n",
      "0.047170\t0.580179\t21.420023\t8.292977\n",
      "0.047246\t0.583797\t21.570365\t8.765405\n",
      "0.046949\t0.581722\t23.375002\t9.840319\n",
      "Graceful Exit\n"
     ]
    }
   ],
   "source": [
    "# optimizer = torch.optim.SGD(model.parameters(), lr=0.0001, momentum=.95)\n",
    "optimizer = torch.optim.Adam(model.parameters(), lr=0.0001)\n",
    "criterion = torch.nn.MultiLabelSoftMarginLoss()\n",
    "try:\n",
    "    with train_set, test_set:\n",
    "        print ('square loss\\tavg prec\\ttime\\t\\tutime')\n",
    "        for epoch in range(500):\n",
    "            t = time()\n",
    "            for i, (x, y) in enumerate(train_loader):\n",
    "                x, y = Variable(x.cuda(), requires_grad=True), Variable(y.cuda(), requires_grad=False)\n",
    "#                 print(y.mean())\n",
    "                #                 loss = L(model(x),y)\n",
    "                loss = criterion(model(x),y)\n",
    "                optimizer.zero_grad()\n",
    "                loss.backward()\n",
    "                optimizer.step()\n",
    "                model.average_iterates()\n",
    "\n",
    "            t1 = time()\n",
    "            avgp, loss = 0., 0.\n",
    "            yground = torch.FloatTensor(batch_size*len(test_loader), m)\n",
    "            yhat = torch.FloatTensor(batch_size*len(test_loader), m)\n",
    "            with averages(model):\n",
    "                for i, (x, y) in enumerate(test_loader):\n",
    "                    x, y = Variable(x.cuda(), requires_grad=False), Variable(y.cuda(), requires_grad=False)\n",
    "                    yhatvar = model(x)\n",
    "#                     loss += L(yhatvar,y).data[0]\n",
    "                    loss += criterion(yhatvar,y).data[0]\n",
    "                    yground[i*batch_size:(i+1)*batch_size,:] = y.data\n",
    "                    yhat[i*batch_size:(i+1)*batch_size,:] = yhatvar.data\n",
    "            avgp = average_precision_score(yground.numpy().flatten(),yhat.numpy().flatten())\n",
    "            loss_history.append(loss/len(test_loader))\n",
    "            avgp_history.append(avgp)\n",
    "            torch.save(model.state_dict(), os.path.join(checkpoint_path,checkpoint))\n",
    "            print ('{:2f}\\t{:2f}\\t{:2f}\\t{:2f}'.format(loss_history[-1],avgp_history[-1],time()-t, time()-t1))\n",
    "\n",
    "except KeyboardInterrupt:\n",
    "    print ('Graceful Exit')\n",
    "else:\n",
    "    print ('Finished')"
   ]
  },
  {
   "cell_type": "code",
   "execution_count": 13,
   "metadata": {},
   "outputs": [
    {
     "name": "stdout",
     "output_type": "stream",
     "text": [
      "100000\n",
      "50000\n"
     ]
    }
   ],
   "source": [
    "print(batch_size*len(train_loader))\n",
    "print(batch_size*len(test_loader))"
   ]
  },
  {
   "cell_type": "code",
   "execution_count": 14,
   "metadata": {},
   "outputs": [
    {
     "data": {
      "text/plain": [
       "[<matplotlib.lines.Line2D at 0x7f272ca46278>]"
      ]
     },
     "execution_count": 14,
     "metadata": {},
     "output_type": "execute_result"
    },
    {
     "data": {
      "image/png": "[encoded data removed]",
      "text/plain": [
       "<matplotlib.figure.Figure at 0x7f2737c33cf8>"
      ]
     },
     "metadata": {},
     "output_type": "display_data"
    }
   ],
   "source": [
    "burnin = 1\n",
    "\n",
    "fig = plt.figure(figsize=(15, 7))\n",
    "fig.add_axes()\n",
    "\n",
    "ax1 = fig.add_subplot(131)\n",
    "ax2 = fig.add_subplot(132)\n",
    "\n",
    "for ax in [ax1, ax2]:\n",
    "    ax.spines[\"top\"].set_visible(False)\n",
    "    ax.spines[\"right\"].set_visible(False)\n",
    "    ax.spines[\"left\"].set_visible(False)\n",
    "    ax.spines[\"bottom\"].set_visible(False)\n",
    "    ax.grid(color='b', linestyle='--', linewidth=0.5, alpha=0.3)\n",
    "    ax.tick_params(direction='out', color='b', width='2')\n",
    "    \n",
    "ax1.set_title('square loss')\n",
    "ax1.plot(np.arange(len(loss_history[burnin:])), loss_history[burnin:])\n",
    "ax2.set_title('average precision')\n",
    "ax2.plot(np.arange(len(avgp_history[burnin:])), avgp_history[burnin:])"
   ]
  },
  {
   "cell_type": "markdown",
   "metadata": {},
   "source": [
    "# Реал тест на наруте"
   ]
  },
  {
   "cell_type": "code",
   "execution_count": 15,
   "metadata": {},
   "outputs": [
    {
     "name": "stdout",
     "output_type": "stream",
     "text": [
      "square loss\tavg prec\ttime\t\tutime\n"
     ]
    },
    {
     "name": "stderr",
     "output_type": "stream",
     "text": [
      "/opt/conda/envs/pytorch-py3.6/lib/python3.6/site-packages/torch/nn/modules/container.py:67: UserWarning: Implicit dimension choice for log_softmax has been deprecated. Change the call to include dim=X as an argument.\n",
      "  input = module(input)\n"
     ]
    },
    {
     "ename": "RuntimeError",
     "evalue": "multi-target not supported at /pytorch/torch/lib/THCUNN/generic/ClassNLLCriterion.cu:16",
     "output_type": "error",
     "traceback": [
      "\u001b[0;31m---------------------------------------------------------------------------\u001b[0m",
      "\u001b[0;31mRuntimeError\u001b[0m                              Traceback (most recent call last)",
      "\u001b[0;32m<ipython-input-15-095151124199>\u001b[0m in \u001b[0;36m<module>\u001b[0;34m()\u001b[0m\n\u001b[1;32m      7\u001b[0m             \u001b[0;32mfor\u001b[0m \u001b[0mx\u001b[0m\u001b[0;34m,\u001b[0m \u001b[0my\u001b[0m \u001b[0;32min\u001b[0m \u001b[0mtrain_loader\u001b[0m\u001b[0;34m:\u001b[0m\u001b[0;34m\u001b[0m\u001b[0m\n\u001b[1;32m      8\u001b[0m                 \u001b[0mx\u001b[0m\u001b[0;34m,\u001b[0m \u001b[0my\u001b[0m \u001b[0;34m=\u001b[0m \u001b[0mVariable\u001b[0m\u001b[0;34m(\u001b[0m\u001b[0mx\u001b[0m\u001b[0;34m.\u001b[0m\u001b[0mcuda\u001b[0m\u001b[0;34m(\u001b[0m\u001b[0;34m)\u001b[0m\u001b[0;34m,\u001b[0m \u001b[0mrequires_grad\u001b[0m\u001b[0;34m=\u001b[0m\u001b[0;32mFalse\u001b[0m\u001b[0;34m)\u001b[0m\u001b[0;34m,\u001b[0m \u001b[0mVariable\u001b[0m\u001b[0;34m(\u001b[0m\u001b[0my\u001b[0m\u001b[0;34m.\u001b[0m\u001b[0mcuda\u001b[0m\u001b[0;34m(\u001b[0m\u001b[0;34m)\u001b[0m\u001b[0;34m,\u001b[0m \u001b[0mrequires_grad\u001b[0m\u001b[0;34m=\u001b[0m\u001b[0;32mFalse\u001b[0m\u001b[0;34m)\u001b[0m\u001b[0;34m\u001b[0m\u001b[0m\n\u001b[0;32m----> 9\u001b[0;31m                 \u001b[0mloss\u001b[0m \u001b[0;34m=\u001b[0m \u001b[0mL\u001b[0m\u001b[0;34m(\u001b[0m\u001b[0mmodel\u001b[0m\u001b[0;34m(\u001b[0m\u001b[0mx\u001b[0m\u001b[0;34m)\u001b[0m\u001b[0;34m,\u001b[0m\u001b[0my\u001b[0m\u001b[0;34m)\u001b[0m\u001b[0;34m\u001b[0m\u001b[0m\n\u001b[0m\u001b[1;32m     10\u001b[0m \u001b[0;34m\u001b[0m\u001b[0m\n\u001b[1;32m     11\u001b[0m                 \u001b[0moptimizer\u001b[0m\u001b[0;34m.\u001b[0m\u001b[0mzero_grad\u001b[0m\u001b[0;34m(\u001b[0m\u001b[0;34m)\u001b[0m\u001b[0;34m\u001b[0m\u001b[0m\n",
      "\u001b[0;32m<ipython-input-7-74afd9bf12c6>\u001b[0m in \u001b[0;36mL\u001b[0;34m(y_hat, y)\u001b[0m\n\u001b[1;32m      5\u001b[0m \u001b[0;32mdef\u001b[0m \u001b[0mL\u001b[0m\u001b[0;34m(\u001b[0m\u001b[0my_hat\u001b[0m\u001b[0;34m,\u001b[0m \u001b[0my\u001b[0m\u001b[0;34m)\u001b[0m\u001b[0;34m:\u001b[0m\u001b[0;34m\u001b[0m\u001b[0m\n\u001b[1;32m      6\u001b[0m     \u001b[0;31m# adjust for per-frame loss\u001b[0m\u001b[0;34m\u001b[0m\u001b[0;34m\u001b[0m\u001b[0m\n\u001b[0;32m----> 7\u001b[0;31m     \u001b[0;32mreturn\u001b[0m \u001b[0mcross_entropy\u001b[0m\u001b[0;34m(\u001b[0m\u001b[0my_hat\u001b[0m\u001b[0;34m,\u001b[0m \u001b[0my\u001b[0m\u001b[0;34m.\u001b[0m\u001b[0mtype\u001b[0m\u001b[0;34m(\u001b[0m\u001b[0mtorch\u001b[0m\u001b[0;34m.\u001b[0m\u001b[0mcuda\u001b[0m\u001b[0;34m.\u001b[0m\u001b[0mLongTensor\u001b[0m\u001b[0;34m)\u001b[0m\u001b[0;34m)\u001b[0m\u001b[0;34m\u001b[0m\u001b[0m\n\u001b[0m",
      "\u001b[0;32m/opt/conda/envs/pytorch-py3.6/lib/python3.6/site-packages/torch/nn/functional.py\u001b[0m in \u001b[0;36mcross_entropy\u001b[0;34m(input, target, weight, size_average, ignore_index, reduce)\u001b[0m\n\u001b[1;32m   1159\u001b[0m         \u001b[0;34m>>\u001b[0m\u001b[0;34m>\u001b[0m \u001b[0mloss\u001b[0m\u001b[0;34m.\u001b[0m\u001b[0mbackward\u001b[0m\u001b[0;34m(\u001b[0m\u001b[0;34m)\u001b[0m\u001b[0;34m\u001b[0m\u001b[0m\n\u001b[1;32m   1160\u001b[0m     \"\"\"\n\u001b[0;32m-> 1161\u001b[0;31m     \u001b[0;32mreturn\u001b[0m \u001b[0mnll_loss\u001b[0m\u001b[0;34m(\u001b[0m\u001b[0mlog_softmax\u001b[0m\u001b[0;34m(\u001b[0m\u001b[0minput\u001b[0m\u001b[0;34m,\u001b[0m \u001b[0;36m1\u001b[0m\u001b[0;34m)\u001b[0m\u001b[0;34m,\u001b[0m \u001b[0mtarget\u001b[0m\u001b[0;34m,\u001b[0m \u001b[0mweight\u001b[0m\u001b[0;34m,\u001b[0m \u001b[0msize_average\u001b[0m\u001b[0;34m,\u001b[0m \u001b[0mignore_index\u001b[0m\u001b[0;34m,\u001b[0m \u001b[0mreduce\u001b[0m\u001b[0;34m)\u001b[0m\u001b[0;34m\u001b[0m\u001b[0m\n\u001b[0m\u001b[1;32m   1162\u001b[0m \u001b[0;34m\u001b[0m\u001b[0m\n\u001b[1;32m   1163\u001b[0m \u001b[0;34m\u001b[0m\u001b[0m\n",
      "\u001b[0;32m/opt/conda/envs/pytorch-py3.6/lib/python3.6/site-packages/torch/nn/functional.py\u001b[0m in \u001b[0;36mnll_loss\u001b[0;34m(input, target, weight, size_average, ignore_index, reduce)\u001b[0m\n\u001b[1;32m   1050\u001b[0m         \u001b[0mweight\u001b[0m \u001b[0;34m=\u001b[0m \u001b[0mVariable\u001b[0m\u001b[0;34m(\u001b[0m\u001b[0mweight\u001b[0m\u001b[0;34m)\u001b[0m\u001b[0;34m\u001b[0m\u001b[0m\n\u001b[1;32m   1051\u001b[0m     \u001b[0;32mif\u001b[0m \u001b[0mdim\u001b[0m \u001b[0;34m==\u001b[0m \u001b[0;36m2\u001b[0m\u001b[0;34m:\u001b[0m\u001b[0;34m\u001b[0m\u001b[0m\n\u001b[0;32m-> 1052\u001b[0;31m         \u001b[0;32mreturn\u001b[0m \u001b[0mtorch\u001b[0m\u001b[0;34m.\u001b[0m\u001b[0m_C\u001b[0m\u001b[0;34m.\u001b[0m\u001b[0m_nn\u001b[0m\u001b[0;34m.\u001b[0m\u001b[0mnll_loss\u001b[0m\u001b[0;34m(\u001b[0m\u001b[0minput\u001b[0m\u001b[0;34m,\u001b[0m \u001b[0mtarget\u001b[0m\u001b[0;34m,\u001b[0m \u001b[0mweight\u001b[0m\u001b[0;34m,\u001b[0m \u001b[0msize_average\u001b[0m\u001b[0;34m,\u001b[0m \u001b[0mignore_index\u001b[0m\u001b[0;34m,\u001b[0m \u001b[0mreduce\u001b[0m\u001b[0;34m)\u001b[0m\u001b[0;34m\u001b[0m\u001b[0m\n\u001b[0m\u001b[1;32m   1053\u001b[0m     \u001b[0;32melif\u001b[0m \u001b[0mdim\u001b[0m \u001b[0;34m==\u001b[0m \u001b[0;36m4\u001b[0m\u001b[0;34m:\u001b[0m\u001b[0;34m\u001b[0m\u001b[0m\n\u001b[1;32m   1054\u001b[0m         \u001b[0;32mreturn\u001b[0m \u001b[0mtorch\u001b[0m\u001b[0;34m.\u001b[0m\u001b[0m_C\u001b[0m\u001b[0;34m.\u001b[0m\u001b[0m_nn\u001b[0m\u001b[0;34m.\u001b[0m\u001b[0mnll_loss2d\u001b[0m\u001b[0;34m(\u001b[0m\u001b[0minput\u001b[0m\u001b[0;34m,\u001b[0m \u001b[0mtarget\u001b[0m\u001b[0;34m,\u001b[0m \u001b[0mweight\u001b[0m\u001b[0;34m,\u001b[0m \u001b[0msize_average\u001b[0m\u001b[0;34m,\u001b[0m \u001b[0mignore_index\u001b[0m\u001b[0;34m,\u001b[0m \u001b[0mreduce\u001b[0m\u001b[0;34m)\u001b[0m\u001b[0;34m\u001b[0m\u001b[0m\n",
      "\u001b[0;31mRuntimeError\u001b[0m: multi-target not supported at /pytorch/torch/lib/THCUNN/generic/ClassNLLCriterion.cu:16"
     ]
    }
   ],
   "source": [
    "\n",
    "try:\n",
    "    with train_set, test_set:\n",
    "        print ('square loss\\tavg prec\\ttime\\t\\tutime')\n",
    "        for epoch in range(50):\n",
    "            t = time()\n",
    "            for x, y in train_loader:\n",
    "                x, y = Variable(x.cuda(), requires_grad=False), Variable(y.cuda(), requires_grad=False)\n",
    "                loss = L(model(x),y)\n",
    "                \n",
    "                optimizer.zero_grad()\n",
    "                loss.backward()\n",
    "                optimizer.step()\n",
    "                model.average_iterates()\n",
    "\n",
    "            t1 = time()\n",
    "            avgp, loss = 0., 0.\n",
    "            yground = torch.FloatTensor(batch_size*len(test_loader), m)\n",
    "            yhat = torch.FloatTensor(batch_size*len(test_loader), m)\n",
    "            with averages(model):\n",
    "                for i, (x, y) in enumerate(naruto_loader):\n",
    "                    x, y = Variable(x.cuda(), requires_grad=False), Variable(y.cuda(), requires_grad=False)\n",
    "                    yhatvar = model(x)\n",
    "                    print(yhatvar)\n",
    "                    loss += L(yhatvar,y).data[0]\n",
    "                    yground[i*batch_size:(i+1)*batch_size,:] = y.data\n",
    "                    yhat[i*batch_size:(i+1)*batch_size,:] = yhatvar.data\n",
    "            avgp = average_precision_score(yground.numpy().flatten(),yhat.numpy().flatten())\n",
    "            loss_history.append(loss/len(test_loader))\n",
    "            avgp_history.append(avgp)\n",
    "            torch.save(model.state_dict(), os.path.join(checkpoint_path,checkpoint))\n",
    "            print ('{:2f}\\t{:2f}\\t{:2f}\\t{:2f}'.format(loss_history[-1],avgp_history[-1],time()-t, time()-t1))\n",
    "\n",
    "except KeyboardInterrupt:\n",
    "    print ('Graceful Exit')\n",
    "else:\n",
    "    print ('Finished')"
   ]
  },
  {
   "cell_type": "code",
   "execution_count": null,
   "metadata": {},
   "outputs": [],
   "source": [
    "! pip indtl"
   ]
  },
  {
   "cell_type": "code",
   "execution_count": null,
   "metadata": {},
   "outputs": [],
   "source": [
    "\n",
    "#!/usr/bin/python\n",
    "\n",
    "from __future__ import division\n",
    "\n",
    "import numpy as np\n",
    "import xgboost as xgb\n",
    "\n",
    "# label need to be 0 to num_class -1\n",
    "data = np.loadtxt('./dermatology.data', delimiter=',',\n",
    "        converters={33: lambda x:int(x == '?'), 34: lambda x:int(x) - 1})\n",
    "sz = data.shape\n",
    "\n",
    "train = data[:int(sz[0] * 0.7), :]\n",
    "test = data[int(sz[0] * 0.7):, :]\n",
    "\n",
    "train_X = train[:, :33]\n",
    "train_Y = train[:, 34]\n",
    "\n",
    "test_X = test[:, :33]\n",
    "test_Y = test[:, 34]\n",
    "\n",
    "xg_train = xgb.DMatrix(train_X, label=train_Y)\n",
    "xg_test = xgb.DMatrix(test_X, label=test_Y)\n",
    "# setup parameters for xgboost\n",
    "param = {}\n",
    "# use softmax multi-class classification\n",
    "param['objective'] = 'multi:softmax'\n",
    "# scale weight of positive examples\n",
    "param['eta'] = 0.1\n",
    "param['max_depth'] = 6\n",
    "param['silent'] = 1\n",
    "param['nthread'] = 4\n",
    "param['num_class'] = 6\n",
    "\n",
    "watchlist = [(xg_train, 'train'), (xg_test, 'test')]\n",
    "num_round = 5\n",
    "bst = xgb.train(param, xg_train, num_round, watchlist)\n",
    "# get prediction\n",
    "pred = bst.predict(xg_test)\n",
    "error_rate = np.sum(pred != test_Y) / test_Y.shape[0]\n",
    "print('Test error using softmax = {}'.format(error_rate))\n",
    "\n",
    "# do the same thing again, but output probabilities\n",
    "param['objective'] = 'multi:softprob'\n",
    "bst = xgb.train(param, xg_train, num_round, watchlist)\n",
    "# Note: this convention has been changed since xgboost-unity\n",
    "# get prediction, this is in 1D array, need reshape to (ndata, nclass)\n",
    "pred_prob = bst.predict(xg_test).reshape(test_Y.shape[0], 6)\n",
    "pred_label = np.argmax(pred_prob, axis=1)\n",
    "error_rate = np.sum(pred_label != test_Y) / test_Y.shape[0]\n",
    "print('Test error using softprob = {}'.format(error_rate))"
   ]
  }
 ],
 "metadata": {
  "kernelspec": {
   "display_name": "Python 3",
   "language": "python",
   "name": "python3"
  },
  "language_info": {
   "codemirror_mode": {
    "name": "ipython",
    "version": 3
   },
   "file_extension": ".py",
   "mimetype": "text/x-python",
   "name": "python",
   "nbconvert_exporter": "python",
   "pygments_lexer": "ipython3",
   "version": "3.6.3"
  }
 },
 "nbformat": 4,
 "nbformat_minor": 2
}
